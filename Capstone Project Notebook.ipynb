{
    "cells": [
        {
            "cell_type": "markdown",
            "metadata": {},
            "source": "# IBM Data Science Professional Certification"
        },
        {
            "cell_type": "markdown",
            "metadata": {},
            "source": "## Capstone Project"
        },
        {
            "cell_type": "markdown",
            "metadata": {},
            "source": "##### Analyze and utilize Machine Learning Unsupervised Clustering techniques to cluster the housing areas into different groups based on various factores. Using Foursquare API to explore the venues around each housing area to provide detailed solutions and recommendations to the dataset. (Pandas, Numpy, matplotlib, scikit-learn, folium, Foursquare API, Kaggle) "
        },
        {
            "cell_type": "markdown",
            "metadata": {},
            "source": "### A. Introduction"
        },
        {
            "cell_type": "markdown",
            "metadata": {},
            "source": "#### 1) Introduction and Background Discussion\nOntario is Canada\u2019s second-largest province by area, covering more than one million square kilometers. The province is located in central Canada; it is bordered by Quebec to the east, Manitoba to the west, and the Great Lakes making up a part of its southern border with the United States. Ontario covers all types of landscapes, from the forested Canadian Shield, southern fertile farmland, and over 250,000 lakes. Moreover, Ottawa is Canada\u2019s capital, in the east of southern Ontario, near the city of Montr\u00e9al and the U.S. Ontario is a very diverse province. For example, 54.8% of the population of Toronto was born outside Canada, which is the second-largest percentage of immigrants in a single city on Earth. \n\nOntario has a very diverse and inclusive environment which is a new home for many international people. It is important for newcomers to familiarize themselves with the community and settle down with convenience. This analysis is providing those newcomers with details about housing prices and venues around to find the best accommodations that will perfectly suit them. \n\nThe main factors and criteria that will be considered in this project are 'Housing Prices' and 'Good Amenities'. Analysis of housing price will provide newcomers a big picture and general idea of the range of the price and see the comparisons between different areas in Ontario. Good amenities will ensure the newcomers have the access to what they need including restaurants, cafes, gyms, libraries, grocery stores, and so on. "
        },
        {
            "cell_type": "markdown",
            "metadata": {},
            "source": "#### 2) Data Description \nThe dataset regarding the housing prices in Ontarios is from Kaggle dataset - House Sales in Ontario. This is a .csv file that includes the listing prices for the sale of properties (mostly houses) in Ontario. The dataset includes the following fields: \n   * Price in dollars\n   * Address of the property\n   * Latitude and Longitude of the address obtained by using Google Geocoding service\n   * Area Name of the property obtained by using Google Geocoding service\n\nIn total, there are around 23500 houses in this dataset that will be cleaned and analyzed. \n\nIn additional to the housing price dataset, Foursquare API will be used to get the most common venues in Ontario. For example, the data will help in determine the unique types and quantity of venues across different areas in Ontario. This data set is essential in segmenting and clustering the different neighbourhoods inside Ontario. "
        },
        {
            "cell_type": "code",
            "execution_count": 1,
            "metadata": {},
            "outputs": [],
            "source": "import pandas as pd\nimport numpy as np"
        }
    ],
    "metadata": {
        "kernelspec": {
            "display_name": "Python 3.7",
            "language": "python",
            "name": "python3"
        },
        "language_info": {
            "codemirror_mode": {
                "name": "ipython",
                "version": 3
            },
            "file_extension": ".py",
            "mimetype": "text/x-python",
            "name": "python",
            "nbconvert_exporter": "python",
            "pygments_lexer": "ipython3",
            "version": "3.7.9"
        }
    },
    "nbformat": 4,
    "nbformat_minor": 1
}